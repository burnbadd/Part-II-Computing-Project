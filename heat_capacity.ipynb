{
 "cells": [
  {
   "cell_type": "code",
   "execution_count": 1,
   "metadata": {},
   "outputs": [],
   "source": [
    "import numpy as np\n",
    "import matplotlib.pyplot as plt\n",
    "from tqdm.notebook import trange\n",
    "from tqdm.notebook import tqdm\n",
    "from scipy.signal import correlate\n",
    "import os\n",
    "\n",
    "from isingpackage import*\n",
    "\n",
    "%matplotlib ipympl"
   ]
  },
  {
   "cell_type": "code",
   "execution_count": 2,
   "metadata": {},
   "outputs": [],
   "source": [
    "#evaluate the heat capacity from a list of evolution of the total energy of the system\n",
    "def Heat_capacity(E_list):\n",
    "\n",
    "    E_list_eq = E_list[2000:]\n",
    "\n",
    "    return np.std(E_list_eq)**2/(T**2)\n"
   ]
  },
  {
   "cell_type": "code",
   "execution_count": 13,
   "metadata": {},
   "outputs": [
    {
     "data": {
      "application/vnd.jupyter.widget-view+json": {
       "model_id": "d3745c3ce5734dc981c98d3261fb4517",
       "version_major": 2,
       "version_minor": 0
      },
      "text/plain": [
       "Canvas(toolbar=Toolbar(toolitems=[('Home', 'Reset original view', 'home', 'home'), ('Back', 'Back to previous …"
      ]
     },
     "metadata": {},
     "output_type": "display_data"
    },
    {
     "data": {
      "text/plain": [
       "[<matplotlib.lines.Line2D at 0x266c505aeb0>]"
      ]
     },
     "execution_count": 13,
     "metadata": {},
     "output_type": "execute_result"
    }
   ],
   "source": [
    "test = hex_series.load_txt('data32\\\\N=032_T=200_muH=000_frames=3000_0.txt')\n",
    "\n",
    "E_list = np.array(test.get_E_list())\n",
    "\n",
    "fig, ax = plt.subplots(figsize=(10,4))\n",
    "ax.plot(E_list[:])"
   ]
  },
  {
   "cell_type": "code",
   "execution_count": 6,
   "metadata": {},
   "outputs": [
    {
     "data": {
      "application/vnd.jupyter.widget-view+json": {
       "model_id": "e6854fd216b64a8aa5adf3d995e15b03",
       "version_major": 2,
       "version_minor": 0
      },
      "text/plain": [
       "  0%|          | 0/46 [00:00<?, ?it/s]"
      ]
     },
     "metadata": {},
     "output_type": "display_data"
    }
   ],
   "source": [
    "#reading in all the series generated in a given path\n",
    "#carry out the measurements and save the values into a csv file\n",
    "\n",
    "path = 'data32_10k\\\\'\n",
    "\n",
    "filenames = os.listdir(path)\n",
    "\n",
    "string = ''\n",
    "\n",
    "T=-1\n",
    "\n",
    "for file_name in tqdm(filenames):\n",
    "    \n",
    "    data = hex_series.load_txt(path+file_name)\n",
    "\n",
    "    if data.T != T:\n",
    "        string += '\\n'\n",
    "        T = data.T\n",
    "        string += '{}, '.format(T)\n",
    "\n",
    "    E_list = data.get_E_list()\n",
    "    \n",
    "    C = Heat_capacity(E_list)\n",
    "\n",
    "    string = string + str(C) + ', '\n",
    "\n",
    "with open('measurements\\\\C_32_10k.csv', 'w') as f:\n",
    "    f.write(string)"
   ]
  }
 ],
 "metadata": {
  "interpreter": {
   "hash": "8fac594bfae6525c0c41b4041d2d72effa188cc8ead05f81b1fab2bb098927fb"
  },
  "kernelspec": {
   "display_name": "Python 3.8.8 ('base')",
   "language": "python",
   "name": "python3"
  },
  "language_info": {
   "codemirror_mode": {
    "name": "ipython",
    "version": 3
   },
   "file_extension": ".py",
   "mimetype": "text/x-python",
   "name": "python",
   "nbconvert_exporter": "python",
   "pygments_lexer": "ipython3",
   "version": "3.8.8"
  },
  "orig_nbformat": 4
 },
 "nbformat": 4,
 "nbformat_minor": 2
}
