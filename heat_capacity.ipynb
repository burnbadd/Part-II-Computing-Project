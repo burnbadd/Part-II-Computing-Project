{
 "cells": [
  {
   "cell_type": "code",
   "execution_count": 2,
   "metadata": {},
   "outputs": [],
   "source": [
    "import numpy as np\n",
    "import matplotlib.pyplot as plt\n",
    "from tqdm.notebook import trange\n",
    "from tqdm.notebook import tqdm\n",
    "from scipy.signal import correlate\n",
    "import os\n",
    "\n",
    "from isingpackage import*\n",
    "\n",
    "%matplotlib ipympl"
   ]
  },
  {
   "cell_type": "code",
   "execution_count": null,
   "metadata": {},
   "outputs": [],
   "source": [
    "eq_steps = 500\n",
    "measurement_steps = 2000\n",
    "Ts = np.linspace(2,3,101)\n",
    "\n",
    "N = 10\n",
    "\n",
    "for T in Ts:\n",
    "\n",
    "    "
   ]
  },
  {
   "cell_type": "code",
   "execution_count": 11,
   "metadata": {},
   "outputs": [],
   "source": [
    "def Heat_capacity(N=32, T=1):\n",
    "\n",
    "    eq_steps = 500\n",
    "    measurement_steps = 2000\n",
    "\n",
    "    array = spin_array(N=N)\n",
    "    for i in range(eq_steps):\n",
    "        array.update_array(T=T)\n",
    "\n",
    "    series = hex_series(N=N, T=T, initial_hex = array.get_hex_str())\n",
    "\n",
    "    series.evolve(frames = measurement_steps)\n",
    "    E_list = series.get_E_list()\n",
    "\n",
    "    return np.std(E_list)**2/(T**2)\n"
   ]
  },
  {
   "cell_type": "code",
   "execution_count": 13,
   "metadata": {},
   "outputs": [
    {
     "data": {
      "text/plain": [
       "20.169455999999997"
      ]
     },
     "execution_count": 13,
     "metadata": {},
     "output_type": "execute_result"
    }
   ],
   "source": [
    "Heat_capacity(N=32)"
   ]
  }
 ],
 "metadata": {
  "interpreter": {
   "hash": "8fac594bfae6525c0c41b4041d2d72effa188cc8ead05f81b1fab2bb098927fb"
  },
  "kernelspec": {
   "display_name": "Python 3.8.8 ('base')",
   "language": "python",
   "name": "python3"
  },
  "language_info": {
   "codemirror_mode": {
    "name": "ipython",
    "version": 3
   },
   "file_extension": ".py",
   "mimetype": "text/x-python",
   "name": "python",
   "nbconvert_exporter": "python",
   "pygments_lexer": "ipython3",
   "version": "3.8.8"
  },
  "orig_nbformat": 4
 },
 "nbformat": 4,
 "nbformat_minor": 2
}
