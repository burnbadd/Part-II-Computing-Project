{
 "cells": [
  {
   "cell_type": "code",
   "execution_count": 2,
   "metadata": {},
   "outputs": [],
   "source": [
    "import numpy as np\n",
    "import matplotlib.pyplot as plt\n",
    "from tqdm.notebook import trange\n",
    "from tqdm.notebook import tqdm\n",
    "from scipy.signal import correlate\n",
    "import os\n",
    "import scipy as sp\n",
    "import scipy.optimize\n",
    "\n",
    "from isingpackage import*"
   ]
  },
  {
   "cell_type": "code",
   "execution_count": 8,
   "metadata": {},
   "outputs": [],
   "source": [
    "def heat_capacity(T, N, measurements=2000, inverse=False):\n",
    "    \"\"\"heat_capacity measures the heat capacity of a lattice with a given size N under given temperature\n",
    "\n",
    "    Args:\n",
    "        T (float): temperature\n",
    "        N (int): square lattice width\n",
    "        measurements (int, optional): Number of frames that we're taking the variance of the energy with. Defaults to 2000.\n",
    "        inverse (bool, optional): If true, return the reciprical of C. Defaults to False.\n",
    "\n",
    "    Returns:\n",
    "        float: Heat capacity measured\n",
    "    \"\"\"\n",
    "    #create a random \n",
    "    seed = np.random.randint(1000)\n",
    "    array = spin_array(N=N, randomseed = seed)\n",
    "\n",
    "    eq_wait = 1000\n",
    "\n",
    "    #waiting the system to reach equilbrium from the initial random state\n",
    "    for i in range(eq_wait):\n",
    "        array.update_array(T=T)\n",
    "\n",
    "\n",
    "    E_list = []\n",
    "\n",
    "    #recording the total energy of each frames\n",
    "    for i in range(measurements):\n",
    "        array.update_array(T=T)\n",
    "        E_list.append(array.get_E())\n",
    "\n",
    "    C = np.var(E_list)/(T**2)\n",
    "\n",
    "    #inversed solution can be used to find the minimum of the inversed function\n",
    "    #using the golden section method\n",
    "    if inverse:\n",
    "        return 1/C\n",
    "    else:\n",
    "        return C\n"
   ]
  },
  {
   "cell_type": "code",
   "execution_count": null,
   "metadata": {},
   "outputs": [],
   "source": [
    "#This cell carry out the measurements and save it in a csv file\n",
    "\n",
    "Ns = [5,10,15,20,25,32]\n",
    "\n",
    "#Measuring the heat capacity of different lattice sizes.\n",
    "for N in Ns:\n",
    "\n",
    "    print('N={}'.format(N))\n",
    "    \n",
    "    #total frames for each measurement\n",
    "    frames=1000\n",
    "\n",
    "    #amount of measurements we do for each lattice size at each temperature\n",
    "    repeat = 20\n",
    "\n",
    "    string = ''\n",
    "\n",
    "    Ts = np.linspace(1,3, 100)\n",
    "\n",
    "    for T in tqdm(Ts):\n",
    "\n",
    "        string += '{} '.format(T)\n",
    "\n",
    "        for i in range(repeat):\n",
    "\n",
    "            C = heat_capacity(N=N, T=T, measurements=frames, max_tries=100)\n",
    "\n",
    "            string = string + ', ' + str(C) \n",
    "\n",
    "        string += '\\n'\n",
    "\n",
    "        with open('measurements\\\\C_{}.csv'.format(N), 'w') as f:\n",
    "            f.write(string)"
   ]
  }
 ],
 "metadata": {
  "interpreter": {
   "hash": "8fac594bfae6525c0c41b4041d2d72effa188cc8ead05f81b1fab2bb098927fb"
  },
  "kernelspec": {
   "display_name": "Python 3.8.8 ('base')",
   "language": "python",
   "name": "python3"
  },
  "language_info": {
   "codemirror_mode": {
    "name": "ipython",
    "version": 3
   },
   "file_extension": ".py",
   "mimetype": "text/x-python",
   "name": "python",
   "nbconvert_exporter": "python",
   "pygments_lexer": "ipython3",
   "version": "3.8.8"
  },
  "orig_nbformat": 4
 },
 "nbformat": 4,
 "nbformat_minor": 2
}
