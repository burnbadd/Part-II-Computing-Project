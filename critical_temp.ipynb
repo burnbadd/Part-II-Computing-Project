{
 "cells": [
  {
   "cell_type": "code",
   "execution_count": 1,
   "metadata": {},
   "outputs": [],
   "source": [
    "import numpy as np\n",
    "import matplotlib.pyplot as plt\n",
    "from tqdm.notebook import trange\n",
    "from tqdm.notebook import tqdm\n",
    "from scipy.signal import correlate\n",
    "import os\n",
    "import scipy as sp\n",
    "import scipy.optimize\n",
    "\n",
    "from isingpackage import*\n",
    "\n",
    "%matplotlib inline"
   ]
  },
  {
   "cell_type": "code",
   "execution_count": 2,
   "metadata": {},
   "outputs": [],
   "source": [
    "def heat_capacity_supervised(N, T, measurements=2000, inverse=False, max_tries=50, M_flip_thresh = 0.4):\n",
    "\n",
    "    array = spin_array(N=N, randomseed = 123)\n",
    "\n",
    "    eq_wait = 1000\n",
    "\n",
    "    for i in range(eq_wait):\n",
    "        array.update_array(T=T)\n",
    "\n",
    "    tries = 0\n",
    "\n",
    "    while True:\n",
    "        E_list = []\n",
    "        M_list = []\n",
    "\n",
    "        for i in range(measurements):\n",
    "            array.update_array(T=T)\n",
    "            E_list.append(array.get_E())\n",
    "            M_list.append(array.get_M_mean())\n",
    "\n",
    "        if T>2:\n",
    "            C = np.var(E_list)/(T**2)\n",
    "            break\n",
    "        \n",
    "        #M didn't flip throughout the measurements\n",
    "        elif np.abs(M_list).min() > M_flip_thresh:\n",
    "            C = np.var(E_list)/(T**2)\n",
    "            break\n",
    "\n",
    "        tries +=1\n",
    "        #too many tries, lowers the difficulty\n",
    "        if tries == max_tries:\n",
    "            measurements = int(measurements*0.9)\n",
    "            tries = 0\n",
    "        \n",
    "\n",
    "\n",
    "    if inverse:\n",
    "        return 1/C\n",
    "    else:\n",
    "        return C\n"
   ]
  },
  {
   "cell_type": "code",
   "execution_count": 8,
   "metadata": {},
   "outputs": [],
   "source": [
    "def heat_capacity(T, N, measurements=2000, inverse=False, max_tries=50, M_flip_thresh = 0.4):\n",
    "\n",
    "    array = spin_array(N=N, randomseed = 123)\n",
    "\n",
    "    eq_wait = 1000\n",
    "\n",
    "    for i in range(eq_wait):\n",
    "        array.update_array(T=T)\n",
    "\n",
    "\n",
    "    E_list = []\n",
    "    M_list = []\n",
    "\n",
    "    for i in range(measurements):\n",
    "        array.update_array(T=T)\n",
    "        E_list.append(array.get_E())\n",
    "        M_list.append(array.get_M_mean())\n",
    "\n",
    "    C = np.var(E_list)/(T**2)\n",
    "\n",
    "    if inverse:\n",
    "        return 1/C\n",
    "    else:\n",
    "        return C\n"
   ]
  },
  {
   "cell_type": "code",
   "execution_count": 25,
   "metadata": {},
   "outputs": [],
   "source": [
    "def heat_capacity_inverse(T, N, measurements=2000, repeat=1):\n",
    "\n",
    "    C_list = []\n",
    "\n",
    "    for j in range(repeat):\n",
    "        E_list = []\n",
    "        M_list = []\n",
    "\n",
    "        array = spin_array(N=N, randomseed = j)\n",
    "\n",
    "        eq_wait = 1000\n",
    "\n",
    "        for i in range(eq_wait):\n",
    "            array.update_array(T=T)\n",
    "\n",
    "\n",
    "\n",
    "        for i in range(measurements):\n",
    "            \n",
    "            array.update_array(T=T)\n",
    "            E_list.append(array.get_E())\n",
    "            M_list.append(array.get_M_mean())\n",
    "\n",
    "        C = np.var(E_list)/(T**2)\n",
    "        C_list.append(C)\n",
    "\n",
    "    C_mean = np.mean(C_list)\n",
    "\n",
    "    return 1/C_mean\n"
   ]
  },
  {
   "cell_type": "code",
   "execution_count": 4,
   "metadata": {},
   "outputs": [
    {
     "name": "stdout",
     "output_type": "stream",
     "text": [
      "N=5\n"
     ]
    },
    {
     "data": {
      "application/vnd.jupyter.widget-view+json": {
       "model_id": "2e4eac49776348a782daba5442aa9779",
       "version_major": 2,
       "version_minor": 0
      },
      "text/plain": [
       "  0%|          | 0/100 [00:00<?, ?it/s]"
      ]
     },
     "metadata": {},
     "output_type": "display_data"
    },
    {
     "ename": "KeyboardInterrupt",
     "evalue": "",
     "output_type": "error",
     "traceback": [
      "\u001b[1;31m---------------------------------------------------------------------------\u001b[0m",
      "\u001b[1;31mKeyboardInterrupt\u001b[0m                         Traceback (most recent call last)",
      "\u001b[1;32m<ipython-input-4-06ecb83684a4>\u001b[0m in \u001b[0;36m<module>\u001b[1;34m\u001b[0m\n\u001b[0;32m     19\u001b[0m         \u001b[1;32mfor\u001b[0m \u001b[0mi\u001b[0m \u001b[1;32min\u001b[0m \u001b[0mrange\u001b[0m\u001b[1;33m(\u001b[0m\u001b[0mrepeat\u001b[0m\u001b[1;33m)\u001b[0m\u001b[1;33m:\u001b[0m\u001b[1;33m\u001b[0m\u001b[1;33m\u001b[0m\u001b[0m\n\u001b[0;32m     20\u001b[0m \u001b[1;33m\u001b[0m\u001b[0m\n\u001b[1;32m---> 21\u001b[1;33m             \u001b[0mC\u001b[0m \u001b[1;33m=\u001b[0m \u001b[0mheat_capacity\u001b[0m\u001b[1;33m(\u001b[0m\u001b[0mN\u001b[0m\u001b[1;33m=\u001b[0m\u001b[0mN\u001b[0m\u001b[1;33m,\u001b[0m \u001b[0mT\u001b[0m\u001b[1;33m=\u001b[0m\u001b[0mT\u001b[0m\u001b[1;33m,\u001b[0m \u001b[0mmeasurements\u001b[0m\u001b[1;33m=\u001b[0m\u001b[0mmeasurements\u001b[0m\u001b[1;33m,\u001b[0m \u001b[0mmax_tries\u001b[0m\u001b[1;33m=\u001b[0m\u001b[1;36m100\u001b[0m\u001b[1;33m)\u001b[0m\u001b[1;33m\u001b[0m\u001b[1;33m\u001b[0m\u001b[0m\n\u001b[0m\u001b[0;32m     22\u001b[0m \u001b[1;33m\u001b[0m\u001b[0m\n\u001b[0;32m     23\u001b[0m             \u001b[0mstring\u001b[0m \u001b[1;33m=\u001b[0m \u001b[0mstring\u001b[0m \u001b[1;33m+\u001b[0m \u001b[1;34m', '\u001b[0m \u001b[1;33m+\u001b[0m \u001b[0mstr\u001b[0m\u001b[1;33m(\u001b[0m\u001b[0mC\u001b[0m\u001b[1;33m)\u001b[0m\u001b[1;33m\u001b[0m\u001b[1;33m\u001b[0m\u001b[0m\n",
      "\u001b[1;32m<ipython-input-3-6d5384cd3e77>\u001b[0m in \u001b[0;36mheat_capacity\u001b[1;34m(T, N, measurements, inverse, max_tries, M_flip_thresh)\u001b[0m\n\u001b[0;32m     14\u001b[0m     \u001b[1;32mfor\u001b[0m \u001b[0mi\u001b[0m \u001b[1;32min\u001b[0m \u001b[0mrange\u001b[0m\u001b[1;33m(\u001b[0m\u001b[0mmeasurements\u001b[0m\u001b[1;33m)\u001b[0m\u001b[1;33m:\u001b[0m\u001b[1;33m\u001b[0m\u001b[1;33m\u001b[0m\u001b[0m\n\u001b[0;32m     15\u001b[0m         \u001b[0marray\u001b[0m\u001b[1;33m.\u001b[0m\u001b[0mupdate_array\u001b[0m\u001b[1;33m(\u001b[0m\u001b[0mT\u001b[0m\u001b[1;33m=\u001b[0m\u001b[0mT\u001b[0m\u001b[1;33m)\u001b[0m\u001b[1;33m\u001b[0m\u001b[1;33m\u001b[0m\u001b[0m\n\u001b[1;32m---> 16\u001b[1;33m         \u001b[0mE_list\u001b[0m\u001b[1;33m.\u001b[0m\u001b[0mappend\u001b[0m\u001b[1;33m(\u001b[0m\u001b[0marray\u001b[0m\u001b[1;33m.\u001b[0m\u001b[0mget_E\u001b[0m\u001b[1;33m(\u001b[0m\u001b[1;33m)\u001b[0m\u001b[1;33m)\u001b[0m\u001b[1;33m\u001b[0m\u001b[1;33m\u001b[0m\u001b[0m\n\u001b[0m\u001b[0;32m     17\u001b[0m         \u001b[0mM_list\u001b[0m\u001b[1;33m.\u001b[0m\u001b[0mappend\u001b[0m\u001b[1;33m(\u001b[0m\u001b[0marray\u001b[0m\u001b[1;33m.\u001b[0m\u001b[0mget_M_mean\u001b[0m\u001b[1;33m(\u001b[0m\u001b[1;33m)\u001b[0m\u001b[1;33m)\u001b[0m\u001b[1;33m\u001b[0m\u001b[1;33m\u001b[0m\u001b[0m\n\u001b[0;32m     18\u001b[0m \u001b[1;33m\u001b[0m\u001b[0m\n",
      "\u001b[1;32mc:\\Lawrence\\Cambridge\\Part II\\2 Computational Physics\\Part II Computing Project\\isingpackage.py\u001b[0m in \u001b[0;36mget_E\u001b[1;34m(self)\u001b[0m\n\u001b[0;32m    125\u001b[0m \u001b[1;33m\u001b[0m\u001b[0m\n\u001b[0;32m    126\u001b[0m     \u001b[1;32mdef\u001b[0m \u001b[0mget_E\u001b[0m\u001b[1;33m(\u001b[0m\u001b[0mself\u001b[0m\u001b[1;33m)\u001b[0m\u001b[1;33m:\u001b[0m\u001b[1;33m\u001b[0m\u001b[1;33m\u001b[0m\u001b[0m\n\u001b[1;32m--> 127\u001b[1;33m         \u001b[0mE\u001b[0m \u001b[1;33m=\u001b[0m \u001b[1;33m-\u001b[0m\u001b[0mself\u001b[0m\u001b[1;33m.\u001b[0m\u001b[0mJ\u001b[0m\u001b[1;33m*\u001b[0m\u001b[0mneighbour_product_sum\u001b[0m\u001b[1;33m(\u001b[0m\u001b[0mself\u001b[0m\u001b[1;33m.\u001b[0m\u001b[0mget_array\u001b[0m\u001b[1;33m(\u001b[0m\u001b[1;33m)\u001b[0m\u001b[1;33m)\u001b[0m \u001b[1;33m-\u001b[0m \u001b[0mself\u001b[0m\u001b[1;33m.\u001b[0m\u001b[0mmuH\u001b[0m\u001b[1;33m*\u001b[0m\u001b[0mself\u001b[0m\u001b[1;33m.\u001b[0m\u001b[0mget_array\u001b[0m\u001b[1;33m(\u001b[0m\u001b[1;33m)\u001b[0m\u001b[1;33m.\u001b[0m\u001b[0msum\u001b[0m\u001b[1;33m(\u001b[0m\u001b[1;33m)\u001b[0m\u001b[1;33m\u001b[0m\u001b[1;33m\u001b[0m\u001b[0m\n\u001b[0m\u001b[0;32m    128\u001b[0m         \u001b[1;32mreturn\u001b[0m \u001b[0mE\u001b[0m\u001b[1;33m\u001b[0m\u001b[1;33m\u001b[0m\u001b[0m\n\u001b[0;32m    129\u001b[0m \u001b[1;33m\u001b[0m\u001b[0m\n",
      "\u001b[1;32mc:\\Lawrence\\Cambridge\\Part II\\2 Computational Physics\\Part II Computing Project\\isingpackage.py\u001b[0m in \u001b[0;36mget_array\u001b[1;34m(self)\u001b[0m\n\u001b[0;32m    122\u001b[0m \u001b[1;33m\u001b[0m\u001b[0m\n\u001b[0;32m    123\u001b[0m     \u001b[1;32mdef\u001b[0m \u001b[0mget_array\u001b[0m\u001b[1;33m(\u001b[0m\u001b[0mself\u001b[0m\u001b[1;33m)\u001b[0m\u001b[1;33m:\u001b[0m\u001b[1;33m\u001b[0m\u001b[1;33m\u001b[0m\u001b[0m\n\u001b[1;32m--> 124\u001b[1;33m         \u001b[1;32mreturn\u001b[0m \u001b[0mself\u001b[0m\u001b[1;33m.\u001b[0m\u001b[0marray\u001b[0m\u001b[1;33m.\u001b[0m\u001b[0mcopy\u001b[0m\u001b[1;33m(\u001b[0m\u001b[1;33m)\u001b[0m\u001b[1;33m\u001b[0m\u001b[1;33m\u001b[0m\u001b[0m\n\u001b[0m\u001b[0;32m    125\u001b[0m \u001b[1;33m\u001b[0m\u001b[0m\n\u001b[0;32m    126\u001b[0m     \u001b[1;32mdef\u001b[0m \u001b[0mget_E\u001b[0m\u001b[1;33m(\u001b[0m\u001b[0mself\u001b[0m\u001b[1;33m)\u001b[0m\u001b[1;33m:\u001b[0m\u001b[1;33m\u001b[0m\u001b[1;33m\u001b[0m\u001b[0m\n",
      "\u001b[1;31mKeyboardInterrupt\u001b[0m: "
     ]
    }
   ],
   "source": [
    "Ns = [5,10,15,20,25,32]\n",
    "\n",
    "for N in Ns:\n",
    "\n",
    "    print('N={}'.format(N))\n",
    "    \n",
    "    measurements=1000\n",
    "\n",
    "    repeat = 20\n",
    "\n",
    "    string = ''\n",
    "\n",
    "    Ts = np.linspace(1,3, 100)\n",
    "\n",
    "    for T in tqdm(Ts):\n",
    "\n",
    "        string += '{} '.format(T)\n",
    "\n",
    "        for i in range(repeat):\n",
    "\n",
    "            C = heat_capacity(N=N, T=T, measurements=measurements, max_tries=100)\n",
    "\n",
    "            string = string + ', ' + str(C) \n",
    "\n",
    "        string += '\\n'\n",
    "\n",
    "        with open('measurements\\\\C_{}.csv'.format(N), 'w') as f:\n",
    "            f.write(string)"
   ]
  },
  {
   "cell_type": "code",
   "execution_count": 28,
   "metadata": {},
   "outputs": [
    {
     "data": {
      "text/plain": [
       "2.253288905264518"
      ]
     },
     "execution_count": 28,
     "metadata": {},
     "output_type": "execute_result"
    }
   ],
   "source": [
    "Tc = scipy.optimize.golden(heat_capacity_inverse, args=(128,500,10), brack=(2,2.5,3))\n",
    "Tc"
   ]
  }
 ],
 "metadata": {
  "interpreter": {
   "hash": "8fac594bfae6525c0c41b4041d2d72effa188cc8ead05f81b1fab2bb098927fb"
  },
  "kernelspec": {
   "display_name": "Python 3.8.8 ('base')",
   "language": "python",
   "name": "python3"
  },
  "language_info": {
   "codemirror_mode": {
    "name": "ipython",
    "version": 3
   },
   "file_extension": ".py",
   "mimetype": "text/x-python",
   "name": "python",
   "nbconvert_exporter": "python",
   "pygments_lexer": "ipython3",
   "version": "3.8.8"
  },
  "orig_nbformat": 4
 },
 "nbformat": 4,
 "nbformat_minor": 2
}
