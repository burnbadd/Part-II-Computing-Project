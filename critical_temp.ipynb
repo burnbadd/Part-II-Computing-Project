{
 "cells": [
  {
   "cell_type": "code",
   "execution_count": 2,
   "metadata": {},
   "outputs": [],
   "source": [
    "import numpy as np\n",
    "import matplotlib.pyplot as plt\n",
    "from tqdm.notebook import trange\n",
    "from tqdm.notebook import tqdm\n",
    "from scipy.signal import correlate\n",
    "import os\n",
    "import scipy as sp\n",
    "import scipy.optimize\n",
    "\n",
    "from isingpackage import*\n",
    "\n",
    "%matplotlib ipympl"
   ]
  },
  {
   "cell_type": "code",
   "execution_count": 7,
   "metadata": {},
   "outputs": [],
   "source": [
    "\n",
    "def Heat_capacity(T, N, initial_hex):\n",
    "\n",
    "    measurement = 1000\n",
    "    equilbrium_wait = 1000\n",
    "\n",
    "    series = hex_series(T=T, N=N, initial_hex=initial_hex)\n",
    "    series.evolve(measurement+equilbrium_wait)\n",
    "\n",
    "    E_list = series.get_E_list()[-measurement:]\n",
    "\n",
    "    return np.var(E_list)/(T**2)\n",
    "\n",
    "def inverse_C(T, N,  initial_hex):\n",
    "    \n",
    "    measurement = 1000\n",
    "    equilbrium_wait = 1000\n",
    "\n",
    "    series = hex_series(T=T, N=N, initial_hex=initial_hex)\n",
    "    series.evolve(measurement+equilbrium_wait)\n",
    "\n",
    "    E_list = series.get_E_list()[-measurement:]\n",
    "\n",
    "    return (T**2)/np.var(E_list)"
   ]
  },
  {
   "cell_type": "code",
   "execution_count": 61,
   "metadata": {},
   "outputs": [
    {
     "data": {
      "application/vnd.jupyter.widget-view+json": {
       "model_id": "4d61907b9c604bc198a41c89f7e0f7ff",
       "version_major": 2,
       "version_minor": 0
      },
      "text/plain": [
       "Canvas(toolbar=Toolbar(toolitems=[('Home', 'Reset original view', 'home', 'home'), ('Back', 'Back to previous …"
      ]
     },
     "metadata": {},
     "output_type": "display_data"
    },
    {
     "data": {
      "text/plain": [
       "[<matplotlib.lines.Line2D at 0x23ffe39b700>]"
      ]
     },
     "execution_count": 61,
     "metadata": {},
     "output_type": "execute_result"
    }
   ],
   "source": [
    "Ts = np.linspace(2,2.5,10)\n",
    "Cs = [Heat_capacity(T,N, initial_hex) for T in Ts]\n",
    "\n",
    "fig, ax = plt.subplots()\n",
    "ax.plot(Ts, Cs)"
   ]
  },
  {
   "cell_type": "code",
   "execution_count": 8,
   "metadata": {},
   "outputs": [
    {
     "data": {
      "text/plain": [
       "(2.2437694098385963, 0.0066929817861592885, 15)"
      ]
     },
     "execution_count": 8,
     "metadata": {},
     "output_type": "execute_result"
    }
   ],
   "source": [
    "N=10\n",
    "initial_hex = '0'\n",
    "\n",
    "Tc = scipy.optimize.golden(inverse_C, args=(N, initial_hex), brack=(2,2.2,2.5), maxiter=10, full_output=True)\n",
    "Tc"
   ]
  }
 ],
 "metadata": {
  "interpreter": {
   "hash": "8fac594bfae6525c0c41b4041d2d72effa188cc8ead05f81b1fab2bb098927fb"
  },
  "kernelspec": {
   "display_name": "Python 3.8.8 ('base')",
   "language": "python",
   "name": "python3"
  },
  "language_info": {
   "codemirror_mode": {
    "name": "ipython",
    "version": 3
   },
   "file_extension": ".py",
   "mimetype": "text/x-python",
   "name": "python",
   "nbconvert_exporter": "python",
   "pygments_lexer": "ipython3",
   "version": "3.8.8"
  },
  "orig_nbformat": 4
 },
 "nbformat": 4,
 "nbformat_minor": 2
}
