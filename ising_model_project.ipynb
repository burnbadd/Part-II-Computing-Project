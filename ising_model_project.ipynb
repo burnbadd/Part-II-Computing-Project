{
 "cells": [
  {
   "cell_type": "code",
   "execution_count": 2,
   "metadata": {},
   "outputs": [],
   "source": [
    "import numpy as np\n",
    "import matplotlib.pyplot as plt\n",
    "import matplotlib.animation as animation\n",
    "import scipy as sp\n",
    "\n",
    "from isingpackage import*\n",
    "\n",
    "%matplotlib ipympl"
   ]
  },
  {
   "cell_type": "markdown",
   "metadata": {},
   "source": [
    "$$E\\ =\\ -J\\sum{\\sigma_i\\sigma_j\\ -\\ \\mu H\\sum\\sigma_i}$$"
   ]
  },
  {
   "cell_type": "markdown",
   "metadata": {},
   "source": [
    "test_N = 64\n",
    "test_steps = 50\n",
    "test_T = 1\n",
    "\n",
    "test_obj = spin_array(test_N, random=True)\n",
    "\n",
    "E_list = []\n",
    "ims = []\n",
    "#array_list = []\n",
    "fig, ax = plt.subplots(figsize=(3,3))\n",
    "\n",
    "for i in range(test_steps):\n",
    "\n",
    "    E_list.append(test_obj.get_E())\n",
    "\n",
    "    #array_list.append(test_obj.get_array().copy())\n",
    "    im = ax.imshow(test_obj.get_array(), animated=True)\n",
    "    ims.append([im])\n",
    "    test_obj.update_array(test_T)\n",
    "\n",
    "ani = animation.ArtistAnimation(fig, ims, interval=100, blit=True,\n",
    "                                repeat_delay=0)\n",
    "plt.show()"
   ]
  },
  {
   "cell_type": "code",
   "execution_count": 8,
   "metadata": {},
   "outputs": [
    {
     "data": {
      "application/vnd.jupyter.widget-view+json": {
       "model_id": "0f764de216204abea21ef6a78e6071db",
       "version_major": 2,
       "version_minor": 0
      },
      "text/plain": [
       "Canvas(toolbar=Toolbar(toolitems=[('Home', 'Reset original view', 'home', 'home'), ('Back', 'Back to previous …"
      ]
     },
     "metadata": {},
     "output_type": "display_data"
    }
   ],
   "source": [
    "test_N = 64\n",
    "test_steps = 200\n",
    "test_T = 1\n",
    "\n",
    "test_obj = spin_array(test_N, randomseed=1)\n",
    "\n",
    "E_list = []\n",
    "\n",
    "ims = []\n",
    "array_list = []\n",
    "fig, ax = plt.subplots(figsize=(3,3))\n",
    "\n",
    "for i in range(test_steps):\n",
    "\n",
    "    E_list.append(test_obj.get_E())\n",
    "\n",
    "    array_list.append(test_obj.get_array().copy())\n",
    "    im = ax.imshow(test_obj.get_array(), animated=True)\n",
    "    ims.append([im])\n",
    "\n",
    "    test_obj.update_array(test_T)\n",
    "\n",
    "ani = animation.ArtistAnimation(fig, ims, interval=100, blit=True,\n",
    "                                repeat_delay=0)\n",
    "plt.show()"
   ]
  },
  {
   "cell_type": "code",
   "execution_count": 4,
   "metadata": {},
   "outputs": [
    {
     "data": {
      "application/vnd.jupyter.widget-view+json": {
       "model_id": "4a05ed3a0d4348129840b1714fc03cd0",
       "version_major": 2,
       "version_minor": 0
      },
      "text/plain": [
       "Canvas(toolbar=Toolbar(toolitems=[('Home', 'Reset original view', 'home', 'home'), ('Back', 'Back to previous …"
      ]
     },
     "metadata": {},
     "output_type": "display_data"
    }
   ],
   "source": [
    "fig = plt.figure(figsize=(10,3))\n",
    "plt.plot(E_list[:])\n",
    "plt.show()"
   ]
  }
 ],
 "metadata": {
  "interpreter": {
   "hash": "8fac594bfae6525c0c41b4041d2d72effa188cc8ead05f81b1fab2bb098927fb"
  },
  "kernelspec": {
   "display_name": "Python 3.8.8 64-bit ('base': conda)",
   "language": "python",
   "name": "python3"
  },
  "language_info": {
   "codemirror_mode": {
    "name": "ipython",
    "version": 3
   },
   "file_extension": ".py",
   "mimetype": "text/x-python",
   "name": "python",
   "nbconvert_exporter": "python",
   "pygments_lexer": "ipython3",
   "version": "3.8.8"
  },
  "orig_nbformat": 4
 },
 "nbformat": 4,
 "nbformat_minor": 2
}
