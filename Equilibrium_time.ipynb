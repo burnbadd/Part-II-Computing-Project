{
 "cells": [
  {
   "cell_type": "code",
   "execution_count": 58,
   "metadata": {},
   "outputs": [],
   "source": [
    "import numpy as np\n",
    "import matplotlib.pyplot as plt\n",
    "from tqdm.notebook import trange\n",
    "from tqdm.notebook import tqdm\n",
    "from scipy.ndimage import gaussian_filter1d\n",
    "import os\n",
    "\n",
    "from isingpackage import*\n"
   ]
  },
  {
   "cell_type": "code",
   "execution_count": 60,
   "metadata": {},
   "outputs": [],
   "source": [
    "def eq_time(E_list):\n",
    "    #the threshold would be the mean of the last 100 (900-1000) values of the E_list\n",
    "    threshold = np.array(E_list[-100:]).mean()\n",
    "\n",
    "    eq_time = -1\n",
    "\n",
    "    #search\n",
    "    for i in range(len(E_list)):\n",
    "        if E_list[i] < threshold:\n",
    "            eq_time = i\n",
    "            break\n",
    "    \n",
    "    if eq_time == -1:\n",
    "        raise NameError('eq_time not found')\n",
    "    else:\n",
    "        return eq_time"
   ]
  },
  {
   "cell_type": "markdown",
   "metadata": {},
   "source": [
    "$$E\\ =\\ -J\\sum{\\sigma_i\\sigma_j\\ -\\ \\mu H\\sum\\sigma_i}$$"
   ]
  },
  {
   "cell_type": "code",
   "execution_count": 61,
   "metadata": {},
   "outputs": [
    {
     "data": {
      "application/vnd.jupyter.widget-view+json": {
       "model_id": "3167572a270f40e59a255f1a6ae5dcaa",
       "version_major": 2,
       "version_minor": 0
      },
      "text/plain": [
       "  0%|          | 0/105 [00:00<?, ?it/s]"
      ]
     },
     "metadata": {},
     "output_type": "display_data"
    }
   ],
   "source": [
    "#reading in all the series generated in a given path\n",
    "#carry out the measurements and save the values into a csv file\n",
    "\n",
    "\n",
    "path = 'data\\\\'\n",
    "\n",
    "filenames = os.listdir(path)\n",
    "\n",
    "string = ''\n",
    "\n",
    "T=-1\n",
    "\n",
    "for file_name in tqdm(filenames):\n",
    "    \n",
    "    data = hex_series.load_txt(path+file_name)\n",
    "\n",
    "    if data.T != T:\n",
    "        string += '\\n'\n",
    "        T = data.T\n",
    "        string += '{}, '.format(T)\n",
    "\n",
    "    E_list = data.get_E_list()\n",
    "    \n",
    "    eq = eq_time(E_list)\n",
    "\n",
    "    string = string + str(eq) + ', '"
   ]
  },
  {
   "cell_type": "code",
   "execution_count": 62,
   "metadata": {},
   "outputs": [],
   "source": [
    "with open('measurements\\\\equilbrium_time_measurement_32.csv', 'w') as f:\n",
    "    f.write(string)"
   ]
  }
 ],
 "metadata": {
  "interpreter": {
   "hash": "8fac594bfae6525c0c41b4041d2d72effa188cc8ead05f81b1fab2bb098927fb"
  },
  "kernelspec": {
   "display_name": "Python 3.8.8 64-bit ('base': conda)",
   "language": "python",
   "name": "python3"
  },
  "language_info": {
   "codemirror_mode": {
    "name": "ipython",
    "version": 3
   },
   "file_extension": ".py",
   "mimetype": "text/x-python",
   "name": "python",
   "nbconvert_exporter": "python",
   "pygments_lexer": "ipython3",
   "version": "3.8.8"
  },
  "orig_nbformat": 4
 },
 "nbformat": 4,
 "nbformat_minor": 2
}
