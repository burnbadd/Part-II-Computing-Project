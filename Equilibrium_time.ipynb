{
 "cells": [
  {
   "cell_type": "code",
   "execution_count": 5,
   "metadata": {},
   "outputs": [],
   "source": [
    "import numpy as np\n",
    "import matplotlib.pyplot as plt\n",
    "import matplotlib.animation as animation\n",
    "import scipy as sp\n",
    "from tqdm.notebook import trange\n",
    "\n",
    "from isingpackage import*\n",
    "\n",
    "%matplotlib ipympl"
   ]
  },
  {
   "cell_type": "markdown",
   "metadata": {},
   "source": [
    "$$E\\ =\\ -J\\sum{\\sigma_i\\sigma_j\\ -\\ \\mu H\\sum\\sigma_i}$$"
   ]
  },
  {
   "cell_type": "code",
   "execution_count": 13,
   "metadata": {},
   "outputs": [],
   "source": [
    "test_N = 64\n",
    "test_steps = 200\n",
    "test_T = 1.5\n",
    "\n",
    "test_obj = spin_array(test_N, randomseed=1)\n",
    "\n",
    "E_list = []\n",
    "#ims = []\n",
    "#array_list = []\n",
    "#fig, ax = plt.subplots(figsize=(3,3))\n",
    "\n",
    "for i in range(test_steps):\n",
    "\n",
    "    E_list.append(test_obj.get_E())\n",
    "\n",
    "    #array_list.append(test_obj.get_array().copy())\n",
    "    #im = ax.imshow(test_obj.get_array(), animated=True)\n",
    "    #ims.append([im])\n",
    "    test_obj.update_array(test_T)\n",
    "\n",
    "#ani = animation.ArtistAnimation(fig, ims, interval=100, blit=True,\n",
    "#                                repeat_delay=0)\n",
    "#plt.show()"
   ]
  },
  {
   "cell_type": "code",
   "execution_count": 17,
   "metadata": {},
   "outputs": [
    {
     "data": {
      "application/vnd.jupyter.widget-view+json": {
       "model_id": "e6291c17ed0f4d2ea042bbd96c483de0",
       "version_major": 2,
       "version_minor": 0
      },
      "text/plain": [
       "Canvas(toolbar=Toolbar(toolitems=[('Home', 'Reset original view', 'home', 'home'), ('Back', 'Back to previous …"
      ]
     },
     "metadata": {},
     "output_type": "display_data"
    }
   ],
   "source": [
    "\n",
    "start = 0\n",
    "end = 50\n",
    "\n",
    "E_list = E_list_bank[51]\n",
    "\n",
    "fig = plt.figure(figsize=(10,2))\n",
    "\n",
    "plt.plot(E_list[start:end])\n",
    "\n",
    "plt.plot(sp.ndimage.gaussian_filter1d(E_list, 4)[start:end])\n",
    "#plt.plot(E_list[start:])\n",
    "\n",
    "plt.show()"
   ]
  },
  {
   "cell_type": "code",
   "execution_count": 20,
   "metadata": {},
   "outputs": [
    {
     "data": {
      "application/vnd.jupyter.widget-view+json": {
       "model_id": "3d1830bf755445519fe81e163fb402d5",
       "version_major": 2,
       "version_minor": 0
      },
      "text/plain": [
       "Canvas(toolbar=Toolbar(toolitems=[('Home', 'Reset original view', 'home', 'home'), ('Back', 'Back to previous …"
      ]
     },
     "metadata": {},
     "output_type": "display_data"
    }
   ],
   "source": [
    "fig = plt.figure(figsize=(2,2))\n",
    "n, bins, patches = plt.hist(E_list, bins=100)\n"
   ]
  },
  {
   "cell_type": "code",
   "execution_count": 31,
   "metadata": {},
   "outputs": [],
   "source": [
    "def eq_time(E_list, bins=50):\n",
    "    histogram, bin_edges = np.histogram(E_list, bins=bins)\n",
    "    peak_value = bin_edges[np.argmax(histogram)+1]\n",
    "\n",
    "    eq_steps = None\n",
    "\n",
    "    for i in range(len(E_list)):\n",
    "        if E_list[i]<peak_value:\n",
    "            eq_steps = i\n",
    "            break\n",
    "    \n",
    "    if eq_steps == None:\n",
    "        raise NameError('eq_steps not found somehow')\n",
    "\n",
    "    return eq_steps"
   ]
  },
  {
   "cell_type": "code",
   "execution_count": 6,
   "metadata": {},
   "outputs": [
    {
     "data": {
      "application/vnd.jupyter.widget-view+json": {
       "model_id": "e484eaf2bab647c8a59bfc7a7bfbf593",
       "version_major": 2,
       "version_minor": 0
      },
      "text/plain": [
       "  0%|          | 0/10 [00:00<?, ?it/s]"
      ]
     },
     "metadata": {},
     "output_type": "display_data"
    },
    {
     "data": {
      "application/vnd.jupyter.widget-view+json": {
       "model_id": "b4774695eeba44168dbded92faa68c8d",
       "version_major": 2,
       "version_minor": 0
      },
      "text/plain": [
       "  0%|          | 0/10 [00:00<?, ?it/s]"
      ]
     },
     "metadata": {},
     "output_type": "display_data"
    },
    {
     "data": {
      "application/vnd.jupyter.widget-view+json": {
       "model_id": "304f521023dc47469cf78c2ef4da8c3d",
       "version_major": 2,
       "version_minor": 0
      },
      "text/plain": [
       "  0%|          | 0/10 [00:00<?, ?it/s]"
      ]
     },
     "metadata": {},
     "output_type": "display_data"
    },
    {
     "data": {
      "application/vnd.jupyter.widget-view+json": {
       "model_id": "f19dc80f1af84ca28719b94635926c1b",
       "version_major": 2,
       "version_minor": 0
      },
      "text/plain": [
       "  0%|          | 0/10 [00:00<?, ?it/s]"
      ]
     },
     "metadata": {},
     "output_type": "display_data"
    },
    {
     "data": {
      "application/vnd.jupyter.widget-view+json": {
       "model_id": "81eaba0a661c45caa4678ef1cd1b57af",
       "version_major": 2,
       "version_minor": 0
      },
      "text/plain": [
       "  0%|          | 0/10 [00:00<?, ?it/s]"
      ]
     },
     "metadata": {},
     "output_type": "display_data"
    },
    {
     "data": {
      "application/vnd.jupyter.widget-view+json": {
       "model_id": "3241447528874c3e9cdab2543368879d",
       "version_major": 2,
       "version_minor": 0
      },
      "text/plain": [
       "  0%|          | 0/10 [00:00<?, ?it/s]"
      ]
     },
     "metadata": {},
     "output_type": "display_data"
    },
    {
     "data": {
      "application/vnd.jupyter.widget-view+json": {
       "model_id": "30393318c32c4e8c8eefad17f3a1722b",
       "version_major": 2,
       "version_minor": 0
      },
      "text/plain": [
       "  0%|          | 0/10 [00:00<?, ?it/s]"
      ]
     },
     "metadata": {},
     "output_type": "display_data"
    },
    {
     "data": {
      "application/vnd.jupyter.widget-view+json": {
       "model_id": "ad99339f1ac748d8b1cb6746a1fd9d59",
       "version_major": 2,
       "version_minor": 0
      },
      "text/plain": [
       "  0%|          | 0/10 [00:00<?, ?it/s]"
      ]
     },
     "metadata": {},
     "output_type": "display_data"
    },
    {
     "data": {
      "application/vnd.jupyter.widget-view+json": {
       "model_id": "4db50346d5764611bef4a447329f3cbe",
       "version_major": 2,
       "version_minor": 0
      },
      "text/plain": [
       "  0%|          | 0/10 [00:00<?, ?it/s]"
      ]
     },
     "metadata": {},
     "output_type": "display_data"
    },
    {
     "data": {
      "application/vnd.jupyter.widget-view+json": {
       "model_id": "3fa61e284bf847c5997a8f4b36276655",
       "version_major": 2,
       "version_minor": 0
      },
      "text/plain": [
       "  0%|          | 0/10 [00:00<?, ?it/s]"
      ]
     },
     "metadata": {},
     "output_type": "display_data"
    },
    {
     "data": {
      "application/vnd.jupyter.widget-view+json": {
       "model_id": "438126e67922460c9b3bd39467773205",
       "version_major": 2,
       "version_minor": 0
      },
      "text/plain": [
       "  0%|          | 0/10 [00:00<?, ?it/s]"
      ]
     },
     "metadata": {},
     "output_type": "display_data"
    }
   ],
   "source": [
    "test_N = 64\n",
    "test_steps = 500\n",
    "\n",
    "T_list = []\n",
    "eq_time_list = []\n",
    "E_list_bank = []\n",
    "\n",
    "T_list_name = 'T_list'\n",
    "eq_time_list_name = 'eqt_list'\n",
    "E_list_bank_name = 'E_list_bank'\n",
    "file_type = '.npy'\n",
    "\n",
    "\n",
    "for i in trange(10):\n",
    "  \n",
    "    test_T = (i+1)/2\n",
    "\n",
    "    for j in trange(10):\n",
    "\n",
    "        T_list.append(test_T)\n",
    "        np.save(T_list_name+file_type, T_list)\n",
    "        test_obj = spin_array(test_N, randomseed=j)\n",
    "\n",
    "        E_list = []\n",
    "\n",
    "        for step in range(test_steps):\n",
    "\n",
    "            E_list.append(test_obj.get_E())\n",
    "            test_obj.update_array(test_T)\n",
    "        \n",
    "        E_list_bank.append(E_list)\n",
    "        eq_time_list.append(eq_time(E_list))\n",
    "\n",
    "    np.save(E_list_bank_name+file_type, E_list)\n",
    "    np.save(eq_time_list_name+file_type, eq_time_list)"
   ]
  },
  {
   "cell_type": "code",
   "execution_count": 8,
   "metadata": {},
   "outputs": [
    {
     "data": {
      "application/vnd.jupyter.widget-view+json": {
       "model_id": "f066b00e88744230bbf297102bc3e01b",
       "version_major": 2,
       "version_minor": 0
      },
      "text/plain": [
       "Canvas(toolbar=Toolbar(toolitems=[('Home', 'Reset original view', 'home', 'home'), ('Back', 'Back to previous …"
      ]
     },
     "metadata": {},
     "output_type": "display_data"
    },
    {
     "data": {
      "text/plain": [
       "<matplotlib.collections.PathCollection at 0x1d4af17afa0>"
      ]
     },
     "execution_count": 8,
     "metadata": {},
     "output_type": "execute_result"
    }
   ],
   "source": [
    "fig = plt.figure(figsize=(5,5))\n",
    "plt.scatter(T_list, eq_time_list)"
   ]
  },
  {
   "cell_type": "code",
   "execution_count": 52,
   "metadata": {},
   "outputs": [
    {
     "name": "stdout",
     "output_type": "stream",
     "text": [
      "13\n"
     ]
    }
   ],
   "source": [
    "print(eq_time(E_list_bank[8], bins=100))"
   ]
  }
 ],
 "metadata": {
  "interpreter": {
   "hash": "8fac594bfae6525c0c41b4041d2d72effa188cc8ead05f81b1fab2bb098927fb"
  },
  "kernelspec": {
   "display_name": "Python 3.8.8 64-bit ('base': conda)",
   "language": "python",
   "name": "python3"
  },
  "language_info": {
   "codemirror_mode": {
    "name": "ipython",
    "version": 3
   },
   "file_extension": ".py",
   "mimetype": "text/x-python",
   "name": "python",
   "nbconvert_exporter": "python",
   "pygments_lexer": "ipython3",
   "version": "3.8.8"
  },
  "orig_nbformat": 4
 },
 "nbformat": 4,
 "nbformat_minor": 2
}
