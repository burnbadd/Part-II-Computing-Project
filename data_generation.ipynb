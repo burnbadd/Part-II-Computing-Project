{
 "cells": [
  {
   "cell_type": "code",
   "execution_count": 1,
   "metadata": {},
   "outputs": [],
   "source": [
    "import numpy as np\n",
    "import matplotlib.pyplot as plt\n",
    "from tqdm.notebook import trange\n",
    "import matplotlib.animation as animation\n",
    "from os.path import exists\n",
    "import os\n",
    "\n",
    "from functions import*\n",
    "from isingpackage import*\n",
    "%matplotlib ipympl"
   ]
  },
  {
   "cell_type": "code",
   "execution_count": 3,
   "metadata": {},
   "outputs": [
    {
     "data": {
      "application/vnd.jupyter.widget-view+json": {
       "model_id": "a37387f3534c4494b1ad3d0afbab1ecd",
       "version_major": 2,
       "version_minor": 0
      },
      "text/plain": [
       "  0%|          | 0/8 [00:00<?, ?it/s]"
      ]
     },
     "metadata": {},
     "output_type": "display_data"
    }
   ],
   "source": [
    "#data generator\n",
    "steps = 10000\n",
    "N = 32\n",
    "repeat_same_T = 1\n",
    "\n",
    "T_start, T_end, T_step = 1,8,1\n",
    "sets = (T_end - T_start)/T_step + 1\n",
    "\n",
    "for i in trange(int(sets)):\n",
    "    T = T_start + i*T_step\n",
    "    \n",
    "    for j in range(repeat_same_T):\n",
    "\n",
    "        series = hex_series(T=T, N=N, randomseed=j)\n",
    "\n",
    "        file_name = series.txt_file_name(frames = steps, suffix = '_'+str(j))\n",
    "\n",
    "        if exists(file_name):\n",
    "            continue\n",
    "        series.evolve(frames=steps)\n",
    "        series.save_txt(suffix = '_'+str(j))"
   ]
  },
  {
   "cell_type": "code",
   "execution_count": 4,
   "metadata": {},
   "outputs": [
    {
     "data": {
      "application/vnd.jupyter.widget-view+json": {
       "model_id": "dd5ac8ba8453409e87283419abb650bf",
       "version_major": 2,
       "version_minor": 0
      },
      "text/plain": [
       "  0%|          | 0/11 [00:00<?, ?it/s]"
      ]
     },
     "metadata": {},
     "output_type": "display_data"
    }
   ],
   "source": [
    "#data generator\n",
    "steps = 10000\n",
    "N = 32\n",
    "repeat_same_T = 1\n",
    "\n",
    "T_start, T_end, T_step = 2.25,2.35,0.01\n",
    "sets = (T_end - T_start)/T_step + 1\n",
    "\n",
    "for i in trange(int(sets)):\n",
    "    T = T_start + i*T_step\n",
    "    \n",
    "    for j in range(repeat_same_T):\n",
    "\n",
    "        series = hex_series(T=T, N=N, randomseed=j)\n",
    "\n",
    "        file_name = series.txt_file_name(frames = steps, suffix = '_'+str(j))\n",
    "\n",
    "        if exists(file_name):\n",
    "            continue\n",
    "        series.evolve(frames=steps)\n",
    "        series.save_txt(suffix = '_'+str(j))"
   ]
  },
  {
   "cell_type": "code",
   "execution_count": 8,
   "metadata": {},
   "outputs": [
    {
     "data": {
      "application/vnd.jupyter.widget-view+json": {
       "model_id": "68e17240e18c4e6aaa7bbee2d91c7a45",
       "version_major": 2,
       "version_minor": 0
      },
      "text/plain": [
       "  0%|          | 0/8 [00:00<?, ?it/s]"
      ]
     },
     "metadata": {},
     "output_type": "display_data"
    }
   ],
   "source": [
    "#data generator\n",
    "steps = 40000\n",
    "N = 10\n",
    "repeat_same_T = 1\n",
    "\n",
    "T_start, T_end, T_step = 1,8,1\n",
    "sets = (T_end - T_start)/T_step + 1\n",
    "\n",
    "for i in trange(int(sets)):\n",
    "    T = T_start + i*T_step\n",
    "    \n",
    "    for j in range(repeat_same_T):\n",
    "\n",
    "        series = hex_series(T=T, N=N, randomseed=j)\n",
    "\n",
    "        file_name = series.txt_file_name(frames = steps, suffix = '_'+str(j))\n",
    "\n",
    "        if exists(file_name):\n",
    "            continue\n",
    "        series.evolve(frames=steps)\n",
    "        series.save_txt(suffix = '_'+str(j))"
   ]
  },
  {
   "cell_type": "code",
   "execution_count": 9,
   "metadata": {},
   "outputs": [
    {
     "data": {
      "application/vnd.jupyter.widget-view+json": {
       "model_id": "a2279666b9eb473d9a36ea214b2a9b82",
       "version_major": 2,
       "version_minor": 0
      },
      "text/plain": [
       "  0%|          | 0/41 [00:00<?, ?it/s]"
      ]
     },
     "metadata": {},
     "output_type": "display_data"
    }
   ],
   "source": [
    "#data generator\n",
    "steps = 40000\n",
    "N = 10\n",
    "repeat_same_T = 1\n",
    "\n",
    "T_start, T_end, T_step = 1,3,0.05\n",
    "sets = (T_end - T_start)/T_step + 1\n",
    "\n",
    "for i in trange(int(sets)):\n",
    "    T = T_start + i*T_step\n",
    "    \n",
    "    for j in range(repeat_same_T):\n",
    "\n",
    "        series = hex_series(T=T, N=N, randomseed=j)\n",
    "\n",
    "        file_name = series.txt_file_name(frames = steps, suffix = '_'+str(j))\n",
    "\n",
    "        if exists(file_name):\n",
    "            continue\n",
    "        series.evolve(frames=steps)\n",
    "        series.save_txt(suffix = '_'+str(j))"
   ]
  },
  {
   "cell_type": "markdown",
   "metadata": {},
   "source": [
    "path = 'data\\\\'\n",
    "\n",
    "filenames = os.listdir(path)\n",
    "\n",
    "for i in range(len(filenames)):\n",
    "    filename = filenames[-i-1]\n",
    "\n",
    "    front = filename[:8]\n",
    "    middle = filename[8:11]\n",
    "    back = filename[11:]\n",
    "\n",
    "    filename_new = front + middle[1:] + '0' + back\n",
    "    os.rename(path+filename, path+filename_new)"
   ]
  }
 ],
 "metadata": {
  "interpreter": {
   "hash": "8fac594bfae6525c0c41b4041d2d72effa188cc8ead05f81b1fab2bb098927fb"
  },
  "kernelspec": {
   "display_name": "Python 3.8.8 ('base')",
   "language": "python",
   "name": "python3"
  },
  "language_info": {
   "codemirror_mode": {
    "name": "ipython",
    "version": 3
   },
   "file_extension": ".py",
   "mimetype": "text/x-python",
   "name": "python",
   "nbconvert_exporter": "python",
   "pygments_lexer": "ipython3",
   "version": "3.8.8"
  },
  "orig_nbformat": 4
 },
 "nbformat": 4,
 "nbformat_minor": 2
}
