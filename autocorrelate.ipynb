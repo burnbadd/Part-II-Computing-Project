{
 "cells": [
  {
   "cell_type": "code",
   "execution_count": 39,
   "metadata": {},
   "outputs": [
    {
     "name": "stdout",
     "output_type": "stream",
     "text": [
      "Warning: Cannot change to a different GUI toolkit: notebook. Using ipympl instead.\n"
     ]
    }
   ],
   "source": [
    "import numpy as np\n",
    "import matplotlib.pyplot as plt\n",
    "from tqdm.notebook import trange\n",
    "from tqdm.notebook import tqdm\n",
    "from scipy.signal import correlate\n",
    "import os\n",
    "\n",
    "from isingpackage import*\n",
    "\n",
    "%matplotlib notebook"
   ]
  },
  {
   "cell_type": "code",
   "execution_count": 2,
   "metadata": {},
   "outputs": [],
   "source": [
    "#the auto covariance function\n",
    "#return a list of A(tau) for tau in range(len(M_list))\n",
    "def autocov(M_list_eq):\n",
    "    M_list_eq = np.array(M_list_eq)\n",
    "    M_prime = M_list_eq - M_list_eq.mean()\n",
    "    A = []\n",
    "    for i in range(len(M_list_eq)):\n",
    "        n = len(M_list_eq) - i\n",
    "        A_i = np.multiply(M_prime[:n], M_prime[i:]).sum()/n\n",
    "        A.append(A_i)\n",
    "    return A \n",
    "\n",
    "#autocorrelation time\n",
    "def autocor(M_list_eq):\n",
    "    A = autocov(M_list_eq)\n",
    "    return A/A[0]\n",
    "\n",
    "#decorrelation time\n",
    "def dec_time(M_list_eq):\n",
    "    threshold = 1/np.e\n",
    "\n",
    "    dec_time = -1\n",
    "\n",
    "    cor = autocor(M_list_eq)\n",
    "\n",
    "    #search\n",
    "    for i in range(len(cor)):\n",
    "        if cor[i] < threshold:\n",
    "            dec_time = i\n",
    "            break\n",
    "    \n",
    "    if dec_time == -1:\n",
    "        raise NameError('dec_time not found')\n",
    "    else:\n",
    "        return dec_time"
   ]
  },
  {
   "cell_type": "code",
   "execution_count": 59,
   "metadata": {},
   "outputs": [
    {
     "data": {
      "application/vnd.jupyter.widget-view+json": {
       "model_id": "816b1b619baf4cbb977d9f261a4cd0d3",
       "version_major": 2,
       "version_minor": 0
      },
      "text/plain": [
       "Canvas(toolbar=Toolbar(toolitems=[('Home', 'Reset original view', 'home', 'home'), ('Back', 'Back to previous …"
      ]
     },
     "metadata": {},
     "output_type": "display_data"
    },
    {
     "data": {
      "text/plain": [
       "Text(0.5, 0, 'Time frame (monte-carlo steps per site)')"
      ]
     },
     "execution_count": 59,
     "metadata": {},
     "output_type": "execute_result"
    }
   ],
   "source": [
    "test = hex_series.load_txt('data10_10k\\\\N=010_T=215_muH=000_frames=10000_0.txt')\n",
    "\n",
    "M_list = np.array(test.get_M_list())/(32**2)\n",
    "\n",
    "fig, ax = plt.subplots(figsize=(10,4))\n",
    "\n",
    "ax.plot(M_list)\n",
    "ax.set_title('Mean magnetic moment for N=32, T=2.45')\n",
    "ax.set_ylabel('Mean magnetic moment (mu)')\n",
    "ax.set_xlabel('Time frame (monte-carlo steps per site)')"
   ]
  },
  {
   "cell_type": "code",
   "execution_count": 61,
   "metadata": {},
   "outputs": [
    {
     "data": {
      "application/vnd.jupyter.widget-view+json": {
       "model_id": "5ec3baab2ef44235ada4957be17bc1d8",
       "version_major": 2,
       "version_minor": 0
      },
      "text/plain": [
       "Canvas(toolbar=Toolbar(toolitems=[('Home', 'Reset original view', 'home', 'home'), ('Back', 'Back to previous …"
      ]
     },
     "metadata": {},
     "output_type": "display_data"
    },
    {
     "name": "stdout",
     "output_type": "stream",
     "text": [
      "14\n"
     ]
    }
   ],
   "source": [
    "fig, ax = plt.subplots(figsize=(10,4))\n",
    "\n",
    "M_list_eq = M_list[2000:6000]\n",
    "\n",
    "cor = autocor(M_list_eq)\n",
    "\n",
    "ax.plot(cor[:200])\n",
    "\n",
    "ax.set_title('Autocorrelation of the Mean magnetic moment of N=32, T=2.45')\n",
    "ax.set_ylabel('Autocorrelation value')\n",
    "ax.set_xlabel('Time frame (monte-carlo steps per site)')\n",
    "\n",
    "print(dec_time(M_list_eq))"
   ]
  },
  {
   "cell_type": "code",
   "execution_count": 57,
   "metadata": {},
   "outputs": [
    {
     "data": {
      "application/vnd.jupyter.widget-view+json": {
       "model_id": "48c3490fb4c141d5b4ad6b132d282865",
       "version_major": 2,
       "version_minor": 0
      },
      "text/plain": [
       "  0%|          | 0/46 [00:00<?, ?it/s]"
      ]
     },
     "metadata": {},
     "output_type": "display_data"
    }
   ],
   "source": [
    "#reading in all the series generated in a given path\n",
    "#carry out the measurements and save the values into a csv file\n",
    "path = 'data10_10k\\\\'\n",
    "\n",
    "filenames = os.listdir(path)\n",
    "\n",
    "string = ''\n",
    "\n",
    "T=-1\n",
    "\n",
    "for file_name in tqdm(filenames):\n",
    "    \n",
    "    data = hex_series.load_txt(path+file_name)\n",
    "\n",
    "    if data.T != T:\n",
    "        #new temperature, new line\n",
    "        string += '\\n'\n",
    "        T = data.T\n",
    "        string += '{}, '.format(T)\n",
    "\n",
    "    M_list = data.get_M_list()\n",
    "    \n",
    "    dt = dec_time(M_list[2000:])\n",
    "\n",
    "    #saving the measurements as a string with comma seperated\n",
    "    string = string + str(dt) + ', '"
   ]
  },
  {
   "cell_type": "code",
   "execution_count": 58,
   "metadata": {},
   "outputs": [],
   "source": [
    "#saving the csv\n",
    "with open('measurements\\\\deccorelation_time_10_10k.csv', 'w') as f:\n",
    "    f.write(string)"
   ]
  }
 ],
 "metadata": {
  "interpreter": {
   "hash": "8fac594bfae6525c0c41b4041d2d72effa188cc8ead05f81b1fab2bb098927fb"
  },
  "kernelspec": {
   "display_name": "Python 3.8.8 ('base')",
   "language": "python",
   "name": "python3"
  },
  "language_info": {
   "codemirror_mode": {
    "name": "ipython",
    "version": 3
   },
   "file_extension": ".py",
   "mimetype": "text/x-python",
   "name": "python",
   "nbconvert_exporter": "python",
   "pygments_lexer": "ipython3",
   "version": "3.8.8"
  },
  "orig_nbformat": 4
 },
 "nbformat": 4,
 "nbformat_minor": 2
}
