{
 "cells": [
  {
   "cell_type": "code",
   "execution_count": 1,
   "metadata": {},
   "outputs": [],
   "source": [
    "import numpy as np\n",
    "import matplotlib.pyplot as plt\n",
    "from tqdm.notebook import trange\n",
    "from tqdm.notebook import tqdm\n",
    "from scipy.signal import correlate\n",
    "import os\n",
    "\n",
    "from isingpackage import*\n",
    "\n",
    "%matplotlib ipympl"
   ]
  },
  {
   "cell_type": "code",
   "execution_count": 35,
   "metadata": {},
   "outputs": [],
   "source": [
    "#the auto covariance function\n",
    "#return a list of A(tau) for tau in range(len(M_list))\n",
    "def autocov(M_list):\n",
    "    M_list = np.array(M_list)\n",
    "    M_prime = M_list - M_list.mean()\n",
    "    A = []\n",
    "    for i in range(len(M_list)):\n",
    "        n = len(M_list) - i\n",
    "        A_i = np.multiply(M_prime[:n], M_prime[i:]).sum()/n\n",
    "        A.append(A_i)\n",
    "    return A \n",
    "\n",
    "#autocorrelation time\n",
    "def autocor(M_list):\n",
    "    A = autocov(M_list)\n",
    "    return A/A[0]\n",
    "\n",
    "#decorrelation time\n",
    "def dec_time(M_list):\n",
    "    threshold = 1/np.e\n",
    "\n",
    "    dec_time = -1\n",
    "\n",
    "    cor = autocor(M_list)\n",
    "\n",
    "    #search\n",
    "    for i in range(len(cor)):\n",
    "        if cor[i] < threshold:\n",
    "            dec_time = i\n",
    "            break\n",
    "    \n",
    "    if dec_time == -1:\n",
    "        raise NameError('dec_time not found')\n",
    "    else:\n",
    "        return dec_time"
   ]
  },
  {
   "cell_type": "code",
   "execution_count": 53,
   "metadata": {},
   "outputs": [],
   "source": [
    "test = hex_series.load_txt('data32\\\\N=032_T=120_muH=000_frames=3000_0.txt')"
   ]
  },
  {
   "cell_type": "code",
   "execution_count": 54,
   "metadata": {},
   "outputs": [
    {
     "data": {
      "application/vnd.jupyter.widget-view+json": {
       "model_id": "041f496bf5284fc48a820c97bb66e2f3",
       "version_major": 2,
       "version_minor": 0
      },
      "text/plain": [
       "Canvas(toolbar=Toolbar(toolitems=[('Home', 'Reset original view', 'home', 'home'), ('Back', 'Back to previous …"
      ]
     },
     "metadata": {},
     "output_type": "display_data"
    },
    {
     "data": {
      "text/plain": [
       "[<matplotlib.lines.Line2D at 0x1fea3412910>]"
      ]
     },
     "execution_count": 54,
     "metadata": {},
     "output_type": "execute_result"
    }
   ],
   "source": [
    "M_list = test.get_M_list()\n",
    "\n",
    "fig, ax = plt.subplots(figsize=(8,2))\n",
    "\n",
    "ax.plot(M_list)"
   ]
  },
  {
   "cell_type": "code",
   "execution_count": 56,
   "metadata": {},
   "outputs": [
    {
     "data": {
      "application/vnd.jupyter.widget-view+json": {
       "model_id": "1906fe5c748044a191f6941f95b959c4",
       "version_major": 2,
       "version_minor": 0
      },
      "text/plain": [
       "Canvas(toolbar=Toolbar(toolitems=[('Home', 'Reset original view', 'home', 'home'), ('Back', 'Back to previous …"
      ]
     },
     "metadata": {},
     "output_type": "display_data"
    },
    {
     "name": "stdout",
     "output_type": "stream",
     "text": [
      "156\n"
     ]
    }
   ],
   "source": [
    "fig, ax = plt.subplots(figsize=(8,2))\n",
    "\n",
    "M_list_eq = M_list[-1000:]\n",
    "\n",
    "cor = autocor(M_list_eq)\n",
    "\n",
    "ax.plot(cor[:])\n",
    "print(dec_time(M_list[-1000:]))"
   ]
  },
  {
   "cell_type": "code",
   "execution_count": 57,
   "metadata": {},
   "outputs": [
    {
     "data": {
      "application/vnd.jupyter.widget-view+json": {
       "model_id": "4ead141304924707af59393825b20ca2",
       "version_major": 2,
       "version_minor": 0
      },
      "text/plain": [
       "  0%|          | 0/105 [00:00<?, ?it/s]"
      ]
     },
     "metadata": {},
     "output_type": "display_data"
    }
   ],
   "source": [
    "path = 'data10\\\\'\n",
    "\n",
    "filenames = os.listdir(path)\n",
    "\n",
    "string = ''\n",
    "\n",
    "T=-1\n",
    "\n",
    "for file_name in tqdm(filenames):\n",
    "    \n",
    "    data = hex_series.load_txt(path+file_name)\n",
    "\n",
    "    if data.T != T:\n",
    "        string += '\\n'\n",
    "        T = data.T\n",
    "        string += '{}, '.format(T)\n",
    "\n",
    "    M_list = data.get_M_list()\n",
    "    \n",
    "    dt = dec_time(M_list[-1000:])\n",
    "\n",
    "    string = string + str(dt) + ', '"
   ]
  },
  {
   "cell_type": "code",
   "execution_count": 58,
   "metadata": {},
   "outputs": [],
   "source": [
    "with open('measurements\\\\deccorelation_time_10.csv', 'w') as f:\n",
    "    f.write(string)"
   ]
  }
 ],
 "metadata": {
  "interpreter": {
   "hash": "8fac594bfae6525c0c41b4041d2d72effa188cc8ead05f81b1fab2bb098927fb"
  },
  "kernelspec": {
   "display_name": "Python 3.8.8 ('base')",
   "language": "python",
   "name": "python3"
  },
  "language_info": {
   "codemirror_mode": {
    "name": "ipython",
    "version": 3
   },
   "file_extension": ".py",
   "mimetype": "text/x-python",
   "name": "python",
   "nbconvert_exporter": "python",
   "pygments_lexer": "ipython3",
   "version": "3.8.8"
  },
  "orig_nbformat": 4
 },
 "nbformat": 4,
 "nbformat_minor": 2
}
