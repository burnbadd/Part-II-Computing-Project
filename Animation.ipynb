{
 "cells": [
  {
   "cell_type": "code",
   "execution_count": 3,
   "metadata": {},
   "outputs": [],
   "source": [
    "import numpy as np\n",
    "import matplotlib.pyplot as plt\n",
    "from tqdm.notebook import trange\n",
    "import matplotlib.animation as animation\n",
    "\n",
    "from functions import*\n",
    "from isingpackage import*\n",
    "%matplotlib ipympl"
   ]
  },
  {
   "cell_type": "code",
   "execution_count": 3,
   "metadata": {},
   "outputs": [
    {
     "data": {
      "application/vnd.jupyter.widget-view+json": {
       "model_id": "8761d5a1a40d423f988b5b6e4794bbe2",
       "version_major": 2,
       "version_minor": 0
      },
      "text/plain": [
       "  0%|          | 0/999 [00:00<?, ?it/s]"
      ]
     },
     "metadata": {},
     "output_type": "display_data"
    },
    {
     "data": {
      "application/vnd.jupyter.widget-view+json": {
       "model_id": "9e7a9b728f8243a299274fce4c312068",
       "version_major": 2,
       "version_minor": 0
      },
      "text/plain": [
       "Canvas(toolbar=Toolbar(toolitems=[('Home', 'Reset original view', 'home', 'home'), ('Back', 'Back to previous …"
      ]
     },
     "metadata": {},
     "output_type": "display_data"
    },
    {
     "data": {
      "application/vnd.jupyter.widget-view+json": {
       "model_id": "5081287deccc47e5b11ff4ced6162346",
       "version_major": 2,
       "version_minor": 0
      },
      "text/plain": [
       "  0%|          | 0/1000 [00:00<?, ?it/s]"
      ]
     },
     "metadata": {},
     "output_type": "display_data"
    }
   ],
   "source": [
    "series = hex_series(N=32, T=2.45, randomseed=123)\n",
    "\n",
    "series.evolve(frames=1000, bar=True)\n",
    "\n",
    "ims = []\n",
    "fig, ax = plt.subplots(figsize=(5,5))\n",
    "\n",
    "for i in trange(series.get_len()):\n",
    "    \n",
    "    im = ax.imshow(series.get_frame_np(i))\n",
    "    ax.set_title('T='+str(series.T))\n",
    "    ims.append([im])\n",
    "\n",
    "ani = animation.ArtistAnimation(fig, ims, interval=100, blit=True,\n",
    "                                repeat_delay=0)\n",
    "plt.show()"
   ]
  },
  {
   "cell_type": "code",
   "execution_count": 8,
   "metadata": {},
   "outputs": [
    {
     "data": {
      "application/vnd.jupyter.widget-view+json": {
       "model_id": "02441f6429f9436e8bfd593cd8b3262a",
       "version_major": 2,
       "version_minor": 0
      },
      "text/plain": [
       "  0%|          | 0/9999 [00:00<?, ?it/s]"
      ]
     },
     "metadata": {},
     "output_type": "display_data"
    },
    {
     "data": {
      "application/vnd.jupyter.widget-view+json": {
       "model_id": "ae02d02f16fb457d86c6c40cc96105cb",
       "version_major": 2,
       "version_minor": 0
      },
      "text/plain": [
       "Canvas(toolbar=Toolbar(toolitems=[('Home', 'Reset original view', 'home', 'home'), ('Back', 'Back to previous …"
      ]
     },
     "metadata": {},
     "output_type": "display_data"
    }
   ],
   "source": [
    "series = hex_series(N=32, T=1.5, randomseed=123)\n",
    "\n",
    "total_frames = 10000\n",
    "\n",
    "series.evolve(frames=total_frames, bar=True)\n",
    "\n",
    "f = plt.figure(figsize=(6,6))\n",
    "\n",
    "sp =  f.add_subplot(2, 2, 1 )\n",
    "plt.imshow(series.get_frame_np(0))\n",
    "\n",
    "sp =  f.add_subplot(2, 2, 2 )\n",
    "plt.imshow(series.get_frame_np(int(total_frames/3)))\n",
    "\n",
    "sp =  f.add_subplot(2, 2, 3 )\n",
    "plt.imshow(series.get_frame_np(int(total_frames*2/3)))\n",
    "\n",
    "sp =  f.add_subplot(2, 2, 4 )\n",
    "plt.imshow(series.get_frame_np(total_frames-1))\n",
    "\n",
    "\n",
    "\n",
    "plt.show()"
   ]
  },
  {
   "cell_type": "code",
   "execution_count": 9,
   "metadata": {},
   "outputs": [
    {
     "data": {
      "application/vnd.jupyter.widget-view+json": {
       "model_id": "17c608cab72e48af823702868c991d45",
       "version_major": 2,
       "version_minor": 0
      },
      "text/plain": [
       "Canvas(toolbar=Toolbar(toolitems=[('Home', 'Reset original view', 'home', 'home'), ('Back', 'Back to previous …"
      ]
     },
     "metadata": {},
     "output_type": "display_data"
    }
   ],
   "source": [
    "series = hex_series.load_txt('data32_10k\\\\N=032_T=150_muH=000_frames=10000_0.txt')\n",
    "\n",
    "total_frames = 10000\n",
    "\n",
    "f = plt.figure(figsize=(6,6))\n",
    "\n",
    "sp =  f.add_subplot(2, 2, 1 )\n",
    "plt.imshow(series.get_frame_np(0))\n",
    "\n",
    "sp =  f.add_subplot(2, 2, 2 )\n",
    "plt.imshow(series.get_frame_np(int(total_frames/3)))\n",
    "\n",
    "sp =  f.add_subplot(2, 2, 3 )\n",
    "plt.imshow(series.get_frame_np(int(total_frames*2/3)))\n",
    "\n",
    "sp =  f.add_subplot(2, 2, 4 )\n",
    "plt.imshow(series.get_frame_np(total_frames-1))\n",
    "\n",
    "\n",
    "\n",
    "plt.show()"
   ]
  }
 ],
 "metadata": {
  "interpreter": {
   "hash": "8fac594bfae6525c0c41b4041d2d72effa188cc8ead05f81b1fab2bb098927fb"
  },
  "kernelspec": {
   "display_name": "Python 3.8.8 64-bit ('base': conda)",
   "language": "python",
   "name": "python3"
  },
  "language_info": {
   "codemirror_mode": {
    "name": "ipython",
    "version": 3
   },
   "file_extension": ".py",
   "mimetype": "text/x-python",
   "name": "python",
   "nbconvert_exporter": "python",
   "pygments_lexer": "ipython3",
   "version": "3.8.8"
  },
  "orig_nbformat": 4
 },
 "nbformat": 4,
 "nbformat_minor": 2
}
