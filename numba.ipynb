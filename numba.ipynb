{
 "cells": [
  {
   "cell_type": "code",
   "execution_count": 1,
   "metadata": {},
   "outputs": [],
   "source": [
    "import numpy as np\n",
    "from numba import jit\n",
    "from isingpackage import*"
   ]
  },
  {
   "cell_type": "code",
   "execution_count": 5,
   "metadata": {},
   "outputs": [],
   "source": [
    "\n",
    "@jit\n",
    "def update_array(input_array, T):\n",
    "\n",
    "    N = input_array.shape[0]\n",
    "\n",
    "    output_array = input_array.copy()\n",
    "\n",
    "    for n in range(N**2):\n",
    "\n",
    "        position = np.random.randint(N**2)\n",
    "        i, j = position//N, position%N\n",
    "\n",
    "\n",
    "\n",
    "\n",
    "        site_ij = output_array[i,j]\n",
    "\n",
    "        nearest_neighbour_sum = (output_array[(i+1)%N,j] +\n",
    "                                output_array[(i-1)%N,j] +\n",
    "                                output_array[i,(j+1)%N] +\n",
    "                                output_array[i,(j-1)%N])\n",
    "        delta_E = 2*site_ij*nearest_neighbour_sum\n",
    "\n",
    "\n",
    "\n",
    "        \n",
    "        if np.random.rand() < np.exp(-delta_E/T):\n",
    "            output_array[i,j] *= -1\n",
    "    \n",
    "    return output_array"
   ]
  },
  {
   "cell_type": "code",
   "execution_count": 2,
   "metadata": {},
   "outputs": [
    {
     "name": "stdout",
     "output_type": "stream",
     "text": [
      "32.9 ms ± 858 µs per loop (mean ± std. dev. of 7 runs, 10 loops each)\n"
     ]
    }
   ],
   "source": [
    "array = spin_array(randomseed=123)\n",
    "\n",
    "%timeit array.update_array(T=10)"
   ]
  },
  {
   "cell_type": "code",
   "execution_count": null,
   "metadata": {},
   "outputs": [],
   "source": [
    "#32.9 ms ± 858 µs per loop (mean ± std. dev. of 7 runs, 10 loops each)\n",
    "#168 µs ± 12.8 µs per loop (mean ± std. dev. of 7 runs, 1 loop each)"
   ]
  },
  {
   "cell_type": "code",
   "execution_count": 3,
   "metadata": {},
   "outputs": [
    {
     "name": "stdout",
     "output_type": "stream",
     "text": [
      "168 µs ± 12.8 µs per loop (mean ± std. dev. of 7 runs, 1 loop each)\n"
     ]
    }
   ],
   "source": [
    "array = spin_array(randomseed=123)\n",
    "\n",
    "%timeit array.update_array_jit(T=10)"
   ]
  }
 ],
 "metadata": {
  "interpreter": {
   "hash": "8fac594bfae6525c0c41b4041d2d72effa188cc8ead05f81b1fab2bb098927fb"
  },
  "kernelspec": {
   "display_name": "Python 3.8.8 ('base')",
   "language": "python",
   "name": "python3"
  },
  "language_info": {
   "codemirror_mode": {
    "name": "ipython",
    "version": 3
   },
   "file_extension": ".py",
   "mimetype": "text/x-python",
   "name": "python",
   "nbconvert_exporter": "python",
   "pygments_lexer": "ipython3",
   "version": "3.8.8"
  },
  "orig_nbformat": 4
 },
 "nbformat": 4,
 "nbformat_minor": 2
}
