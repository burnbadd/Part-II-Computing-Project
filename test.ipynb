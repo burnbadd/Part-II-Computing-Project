{
 "cells": [
  {
   "cell_type": "code",
   "execution_count": 1,
   "metadata": {},
   "outputs": [],
   "source": [
    "import numpy as np\n",
    "import matplotlib.pyplot as plt\n",
    "import matplotlib.animation as animation\n",
    "import scipy as sp\n",
    "\n",
    "from isingpackage import*\n",
    "\n",
    "%matplotlib ipympl"
   ]
  },
  {
   "cell_type": "code",
   "execution_count": 58,
   "metadata": {},
   "outputs": [],
   "source": [
    "N=128\n",
    "array = spin_array(N, randomseed=0)\n",
    "\n",
    "#2.37ms"
   ]
  },
  {
   "cell_type": "code",
   "execution_count": 55,
   "metadata": {},
   "outputs": [],
   "source": [
    "def to_hex(spin_array):\n",
    "    np_array_1d = spin_array.get_array().flatten()\n",
    "    \n",
    "    bi_str = ''\n",
    "\n",
    "    for i in range(np_array_1d.size):\n",
    "        if np_array_1d[i] == 1:\n",
    "            bi_str += '1'\n",
    "        else:\n",
    "            bi_str += '0'\n",
    "    \n",
    "    hex_str = hex(int(bi_str, 2))\n",
    "    \n",
    "    return hex_str"
   ]
  },
  {
   "cell_type": "code",
   "execution_count": 67,
   "metadata": {},
   "outputs": [],
   "source": [
    "test_hex = to_hex(array)\n",
    "test_list = [test_hex]\n",
    "test_list *= 1000\n",
    "test_np = np.array(test_list)\n",
    "np.save('test_save', test_np)"
   ]
  }
 ],
 "metadata": {
  "interpreter": {
   "hash": "8fac594bfae6525c0c41b4041d2d72effa188cc8ead05f81b1fab2bb098927fb"
  },
  "kernelspec": {
   "display_name": "Python 3.8.8 64-bit ('base': conda)",
   "language": "python",
   "name": "python3"
  },
  "language_info": {
   "codemirror_mode": {
    "name": "ipython",
    "version": 3
   },
   "file_extension": ".py",
   "mimetype": "text/x-python",
   "name": "python",
   "nbconvert_exporter": "python",
   "pygments_lexer": "ipython3",
   "version": "3.8.8"
  },
  "orig_nbformat": 4
 },
 "nbformat": 4,
 "nbformat_minor": 2
}
